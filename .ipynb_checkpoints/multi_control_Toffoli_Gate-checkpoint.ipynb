{
 "cells": [
  {
   "cell_type": "markdown",
   "metadata": {},
   "source": [
    "Refer: https://qiskit.org/documentation/locale/ja/_modules/qiskit/aqua/circuits/gates/multi_control_toffoli_gate.html"
   ]
  },
  {
   "cell_type": "code",
   "execution_count": 16,
   "metadata": {},
   "outputs": [],
   "source": [
    "import numpy as np\n",
    "from qiskit import *\n",
    "from qiskit.visualization import *\n",
    "# from qiskit.aqua import mct (no need for this)\n",
    "#     mct moved from Aqua to Terra as of Aqua 0.7!"
   ]
  },
  {
   "cell_type": "code",
   "execution_count": 12,
   "metadata": {},
   "outputs": [
    {
     "data": {
      "image/png": "[encoded data removed]",
      "text/plain": [
       "<Figure size 200.977x325.08 with 1 Axes>"
      ]
     },
     "execution_count": 12,
     "metadata": {},
     "output_type": "execute_result"
    }
   ],
   "source": [
    "circuit = QuantumCircuit(5)\n",
    "\n",
    "circuit.mct([0, 1, 2], 3)    # Multi-control Toffoli Gate \n",
    "# qiskit.circuit.mct applies MCX gate from the MCXGate class in Qiskit i.e. Multiple Controlled X Gates => Toffoli Gate!\n",
    "\n",
    "circuit.draw('mpl')"
   ]
  },
  {
   "cell_type": "code",
   "execution_count": 14,
   "metadata": {},
   "outputs": [
    {
     "ename": "SyntaxError",
     "evalue": "unexpected EOF while parsing (<ipython-input-14-405701ac79b5>, line 17)",
     "output_type": "error",
     "traceback": [
      "\u001b[0;36m  File \u001b[0;32m\"<ipython-input-14-405701ac79b5>\"\u001b[0;36m, line \u001b[0;32m17\u001b[0m\n\u001b[0;31m    #     Controlled V\u001b[0m\n\u001b[0m                      ^\u001b[0m\n\u001b[0;31mSyntaxError\u001b[0m\u001b[0;31m:\u001b[0m unexpected EOF while parsing\n"
     ]
    }
   ],
   "source": [
    "# cccx gate with 3 control qubits and 1 target qubit.\n",
    "# (Required for Grover's Algorithm)\n",
    "\n",
    "def cccx_gate(control_qubits, target_qubit, angle = pi/4):\n",
    "#     Controlled V\n",
    "    \n",
    "#     Controlled V-dagger\n",
    "    \n",
    "#     Controlled V\n",
    "\n",
    "#     Controlled V-dagger\n",
    "\n",
    "#     Controlled V\n",
    "\n",
    "#     Controlled V-dagger\n",
    "\n",
    "#     Controlled V"
   ]
  },
  {
   "cell_type": "code",
   "execution_count": null,
   "metadata": {},
   "outputs": [],
   "source": []
  }
 ],
 "metadata": {
  "kernelspec": {
   "display_name": "Python 3",
   "language": "python",
   "name": "python3"
  },
  "language_info": {
   "codemirror_mode": {
    "name": "ipython",
    "version": 3
   },
   "file_extension": ".py",
   "mimetype": "text/x-python",
   "name": "python",
   "nbconvert_exporter": "python",
   "pygments_lexer": "ipython3",
   "version": "3.7.6"
  }
 },
 "nbformat": 4,
 "nbformat_minor": 2
}
