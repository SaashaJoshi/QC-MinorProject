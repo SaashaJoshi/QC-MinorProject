{
 "cells": [
  {
   "cell_type": "code",
   "execution_count": 4,
   "metadata": {},
   "outputs": [],
   "source": [
    "from qiskit import *\n",
    "from qiskit import IBMQ"
   ]
  },
  {
   "cell_type": "code",
   "execution_count": 6,
   "metadata": {},
   "outputs": [
    {
     "name": "stderr",
     "output_type": "stream",
     "text": [
      "/home/saasha/anaconda3/lib/python3.7/site-packages/qiskit/providers/ibmq/ibmqfactory.py:192: UserWarning: Timestamps in IBMQ backend properties, jobs, and job results are all now in local time instead of UTC.\n",
      "  warnings.warn('Timestamps in IBMQ backend properties, jobs, and job results '\n"
     ]
    }
   ],
   "source": [
    "provider = IBMQ.load_account()\n",
    "backend = provider.get_backend('ibmq_athens')"
   ]
  },
  {
   "cell_type": "code",
   "execution_count": 7,
   "metadata": {},
   "outputs": [
    {
     "name": "stdout",
     "output_type": "stream",
     "text": [
      "ibmq_athens\n",
      "1.2.1\n",
      "2020-11-07 11:14:54+05:30\n"
     ]
    }
   ],
   "source": [
    "print(backend.properties().backend_name)\n",
    "print(backend.properties().backend_version)\n",
    "print(backend.properties().last_update_date)"
   ]
  },
  {
   "cell_type": "code",
   "execution_count": 8,
   "metadata": {},
   "outputs": [
    {
     "data": {
      "text/plain": [
       "<IBMQBackend('ibmq_athens') from IBMQ(hub='ibm-q', group='open', project='main')>"
      ]
     },
     "execution_count": 8,
     "metadata": {},
     "output_type": "execute_result"
    }
   ],
   "source": [
    "backend"
   ]
  },
  {
   "cell_type": "code",
   "execution_count": 20,
   "metadata": {},
   "outputs": [
    {
     "data": {
      "text/plain": [
       "[<qiskit.providers.models.backendproperties.Gate at 0x7f50b57874d0>,\n",
       " <qiskit.providers.models.backendproperties.Gate at 0x7f50b5787590>,\n",
       " <qiskit.providers.models.backendproperties.Gate at 0x7f50b5787650>,\n",
       " <qiskit.providers.models.backendproperties.Gate at 0x7f50b5787710>,\n",
       " <qiskit.providers.models.backendproperties.Gate at 0x7f50b57877d0>,\n",
       " <qiskit.providers.models.backendproperties.Gate at 0x7f50b57878d0>,\n",
       " <qiskit.providers.models.backendproperties.Gate at 0x7f50b5787990>,\n",
       " <qiskit.providers.models.backendproperties.Gate at 0x7f50b5787a50>,\n",
       " <qiskit.providers.models.backendproperties.Gate at 0x7f50b5787b10>,\n",
       " <qiskit.providers.models.backendproperties.Gate at 0x7f50b5787890>,\n",
       " <qiskit.providers.models.backendproperties.Gate at 0x7f50b5787c50>,\n",
       " <qiskit.providers.models.backendproperties.Gate at 0x7f50b5787d10>,\n",
       " <qiskit.providers.models.backendproperties.Gate at 0x7f50b5787dd0>,\n",
       " <qiskit.providers.models.backendproperties.Gate at 0x7f50b5787e90>,\n",
       " <qiskit.providers.models.backendproperties.Gate at 0x7f50b5787f50>,\n",
       " <qiskit.providers.models.backendproperties.Gate at 0x7f50b577a050>,\n",
       " <qiskit.providers.models.backendproperties.Gate at 0x7f50b577a110>,\n",
       " <qiskit.providers.models.backendproperties.Gate at 0x7f50b577a1d0>,\n",
       " <qiskit.providers.models.backendproperties.Gate at 0x7f50b577a290>,\n",
       " <qiskit.providers.models.backendproperties.Gate at 0x7f50b577a350>,\n",
       " <qiskit.providers.models.backendproperties.Gate at 0x7f50b577a410>,\n",
       " <qiskit.providers.models.backendproperties.Gate at 0x7f50b577a4d0>,\n",
       " <qiskit.providers.models.backendproperties.Gate at 0x7f50b577a590>,\n",
       " <qiskit.providers.models.backendproperties.Gate at 0x7f50b577a650>,\n",
       " <qiskit.providers.models.backendproperties.Gate at 0x7f50b577a710>,\n",
       " <qiskit.providers.models.backendproperties.Gate at 0x7f50b577a7d0>,\n",
       " <qiskit.providers.models.backendproperties.Gate at 0x7f50b577a890>,\n",
       " <qiskit.providers.models.backendproperties.Gate at 0x7f50b577a950>]"
      ]
     },
     "execution_count": 20,
     "metadata": {},
     "output_type": "execute_result"
    }
   ],
   "source": [
    "backend.properties().gates"
   ]
  },
  {
   "cell_type": "code",
   "execution_count": 9,
   "metadata": {},
   "outputs": [
    {
     "data": {
      "text/plain": [
       "{(0,\n",
       "  1): {'gate_error': (0.008997643475111367,\n",
       "   datetime.datetime(2020, 11, 7, 10, 57, 38, tzinfo=tzlocal())), 'gate_length': (4.124444444444444e-07,\n",
       "   datetime.datetime(2020, 11, 7, 11, 14, 54, tzinfo=tzlocal()))},\n",
       " (1,\n",
       "  0): {'gate_error': (0.008997643475111367,\n",
       "   datetime.datetime(2020, 11, 7, 10, 57, 38, tzinfo=tzlocal())), 'gate_length': (3.7688888888888884e-07,\n",
       "   datetime.datetime(2020, 11, 7, 11, 14, 54, tzinfo=tzlocal()))},\n",
       " (1,\n",
       "  2): {'gate_error': (0.00834476518982566,\n",
       "   datetime.datetime(2020, 11, 7, 11, 3, 37, tzinfo=tzlocal())), 'gate_length': (2.702222222222222e-07,\n",
       "   datetime.datetime(2020, 11, 7, 11, 14, 54, tzinfo=tzlocal()))},\n",
       " (2,\n",
       "  1): {'gate_error': (0.00834476518982566,\n",
       "   datetime.datetime(2020, 11, 7, 11, 3, 37, tzinfo=tzlocal())), 'gate_length': (3.0577777777777775e-07,\n",
       "   datetime.datetime(2020, 11, 7, 11, 14, 54, tzinfo=tzlocal()))},\n",
       " (2,\n",
       "  3): {'gate_error': (0.0071410365442775015,\n",
       "   datetime.datetime(2020, 11, 7, 11, 9, 11, tzinfo=tzlocal())), 'gate_length': (2.8444444444444443e-07,\n",
       "   datetime.datetime(2020, 11, 7, 11, 14, 54, tzinfo=tzlocal()))},\n",
       " (3,\n",
       "  2): {'gate_error': (0.0071410365442775015,\n",
       "   datetime.datetime(2020, 11, 7, 11, 9, 11, tzinfo=tzlocal())), 'gate_length': (3.2e-07,\n",
       "   datetime.datetime(2020, 11, 7, 11, 14, 54, tzinfo=tzlocal()))},\n",
       " (3,\n",
       "  4): {'gate_error': (0.007298057615261366,\n",
       "   datetime.datetime(2020, 11, 7, 11, 14, 54, tzinfo=tzlocal())), 'gate_length': (4.195555555555555e-07,\n",
       "   datetime.datetime(2020, 11, 7, 11, 14, 54, tzinfo=tzlocal()))},\n",
       " (4,\n",
       "  3): {'gate_error': (0.007298057615261366,\n",
       "   datetime.datetime(2020, 11, 7, 11, 14, 54, tzinfo=tzlocal())), 'gate_length': (3.84e-07,\n",
       "   datetime.datetime(2020, 11, 7, 11, 14, 54, tzinfo=tzlocal()))}}"
      ]
     },
     "execution_count": 9,
     "metadata": {},
     "output_type": "execute_result"
    }
   ],
   "source": [
    "backend.properties().gate_property('cx')"
   ]
  },
  {
   "cell_type": "code",
   "execution_count": 10,
   "metadata": {},
   "outputs": [
    {
     "data": {
      "text/plain": [
       "True"
      ]
     },
     "execution_count": 10,
     "metadata": {},
     "output_type": "execute_result"
    }
   ],
   "source": [
    "backend.properties().is_gate_operational('cx')"
   ]
  },
  {
   "cell_type": "code",
   "execution_count": 11,
   "metadata": {},
   "outputs": [
    {
     "data": {
      "text/plain": [
       "{'T1': (8.186099589063189e-05,\n",
       "  datetime.datetime(2020, 11, 7, 10, 45, 12, tzinfo=tzlocal())),\n",
       " 'T2': (0.00015187756299924761,\n",
       "  datetime.datetime(2020, 11, 7, 10, 48, 22, tzinfo=tzlocal())),\n",
       " 'frequency': (5175582922.956596,\n",
       "  datetime.datetime(2020, 11, 7, 11, 14, 54, tzinfo=tzlocal())),\n",
       " 'anharmonicity': (-336102370.5583405,\n",
       "  datetime.datetime(2020, 11, 7, 11, 14, 54, tzinfo=tzlocal())),\n",
       " 'readout_error': (0.012499999999999956,\n",
       "  datetime.datetime(2020, 11, 7, 10, 43, 20, tzinfo=tzlocal())),\n",
       " 'prob_meas0_prep1': (0.02059999999999995,\n",
       "  datetime.datetime(2020, 11, 7, 10, 43, 20, tzinfo=tzlocal())),\n",
       " 'prob_meas1_prep0': (0.0044,\n",
       "  datetime.datetime(2020, 11, 7, 10, 43, 20, tzinfo=tzlocal()))}"
      ]
     },
     "execution_count": 11,
     "metadata": {},
     "output_type": "execute_result"
    }
   ],
   "source": [
    "backend.properties().qubit_property(0)"
   ]
  },
  {
   "cell_type": "code",
   "execution_count": 12,
   "metadata": {},
   "outputs": [
    {
     "data": {
      "text/plain": [
       "[]"
      ]
     },
     "execution_count": 12,
     "metadata": {},
     "output_type": "execute_result"
    }
   ],
   "source": [
    "backend.properties().faulty_gates()"
   ]
  },
  {
   "cell_type": "code",
   "execution_count": 13,
   "metadata": {},
   "outputs": [
    {
     "data": {
      "text/plain": [
       "[]"
      ]
     },
     "execution_count": 13,
     "metadata": {},
     "output_type": "execute_result"
    }
   ],
   "source": [
    "backend.properties().faulty_qubits()"
   ]
  },
  {
   "cell_type": "code",
   "execution_count": null,
   "metadata": {},
   "outputs": [],
   "source": []
  },
  {
   "cell_type": "code",
   "execution_count": 21,
   "metadata": {},
   "outputs": [],
   "source": [
    "backend = provider.get_backend('ibmqx2')    # ibmq_5_yorktown"
   ]
  },
  {
   "cell_type": "code",
   "execution_count": 22,
   "metadata": {},
   "outputs": [
    {
     "data": {
      "text/plain": [
       "<IBMQBackend('ibmqx2') from IBMQ(hub='ibm-q', group='open', project='main')>"
      ]
     },
     "execution_count": 22,
     "metadata": {},
     "output_type": "execute_result"
    }
   ],
   "source": [
    "backend"
   ]
  },
  {
   "cell_type": "code",
   "execution_count": 23,
   "metadata": {},
   "outputs": [
    {
     "data": {
      "text/plain": [
       "{(0,\n",
       "  1): {'gate_error': (0.02757531768959018,\n",
       "   datetime.datetime(2020, 11, 6, 11, 23, 24, tzinfo=tzlocal())), 'gate_length': (4.4088888888888883e-07,\n",
       "   datetime.datetime(2020, 11, 6, 11, 53, 58, tzinfo=tzlocal()))},\n",
       " (0,\n",
       "  2): {'gate_error': (0.01607516634733791,\n",
       "   datetime.datetime(2020, 11, 6, 11, 29, 30, tzinfo=tzlocal())), 'gate_length': (3.84e-07,\n",
       "   datetime.datetime(2020, 11, 6, 11, 53, 58, tzinfo=tzlocal()))},\n",
       " (1,\n",
       "  0): {'gate_error': (0.02757531768959018,\n",
       "   datetime.datetime(2020, 11, 6, 11, 23, 24, tzinfo=tzlocal())), 'gate_length': (4.764444444444444e-07,\n",
       "   datetime.datetime(2020, 11, 6, 11, 53, 58, tzinfo=tzlocal()))},\n",
       " (1,\n",
       "  2): {'gate_error': (0.020668573675946073,\n",
       "   datetime.datetime(2020, 11, 6, 11, 35, 30, tzinfo=tzlocal())), 'gate_length': (5.333333333333332e-07,\n",
       "   datetime.datetime(2020, 11, 6, 11, 53, 58, tzinfo=tzlocal()))},\n",
       " (2,\n",
       "  0): {'gate_error': (0.01607516634733791,\n",
       "   datetime.datetime(2020, 11, 6, 11, 29, 30, tzinfo=tzlocal())), 'gate_length': (4.195555555555555e-07,\n",
       "   datetime.datetime(2020, 11, 6, 11, 53, 58, tzinfo=tzlocal()))},\n",
       " (2,\n",
       "  1): {'gate_error': (0.020668573675946073,\n",
       "   datetime.datetime(2020, 11, 6, 11, 35, 30, tzinfo=tzlocal())), 'gate_length': (5.688888888888889e-07,\n",
       "   datetime.datetime(2020, 11, 6, 11, 53, 58, tzinfo=tzlocal()))},\n",
       " (2,\n",
       "  3): {'gate_error': (0.012504236895594989,\n",
       "   datetime.datetime(2020, 11, 6, 11, 41, 33, tzinfo=tzlocal())), 'gate_length': (5.191111111111111e-07,\n",
       "   datetime.datetime(2020, 11, 6, 11, 53, 58, tzinfo=tzlocal()))},\n",
       " (2,\n",
       "  4): {'gate_error': (0.012534560696661118,\n",
       "   datetime.datetime(2020, 11, 6, 11, 53, 58, tzinfo=tzlocal())), 'gate_length': (3.911111111111111e-07,\n",
       "   datetime.datetime(2020, 11, 6, 11, 53, 58, tzinfo=tzlocal()))},\n",
       " (3,\n",
       "  2): {'gate_error': (0.012504236895594989,\n",
       "   datetime.datetime(2020, 11, 6, 11, 41, 33, tzinfo=tzlocal())), 'gate_length': (4.835555555555555e-07,\n",
       "   datetime.datetime(2020, 11, 6, 11, 53, 58, tzinfo=tzlocal()))},\n",
       " (3,\n",
       "  4): {'gate_error': (0.01565609939446183,\n",
       "   datetime.datetime(2020, 11, 6, 11, 47, 50, tzinfo=tzlocal())), 'gate_length': (4.693333333333333e-07,\n",
       "   datetime.datetime(2020, 11, 6, 11, 53, 58, tzinfo=tzlocal()))},\n",
       " (4,\n",
       "  2): {'gate_error': (0.012534560696661118,\n",
       "   datetime.datetime(2020, 11, 6, 11, 53, 58, tzinfo=tzlocal())), 'gate_length': (3.5555555555555553e-07,\n",
       "   datetime.datetime(2020, 11, 6, 11, 53, 58, tzinfo=tzlocal()))},\n",
       " (4,\n",
       "  3): {'gate_error': (0.01565609939446183,\n",
       "   datetime.datetime(2020, 11, 6, 11, 47, 50, tzinfo=tzlocal())), 'gate_length': (5.048888888888888e-07,\n",
       "   datetime.datetime(2020, 11, 6, 11, 53, 58, tzinfo=tzlocal()))}}"
      ]
     },
     "execution_count": 23,
     "metadata": {},
     "output_type": "execute_result"
    }
   ],
   "source": [
    "backend.properties().gate_property('cx')"
   ]
  },
  {
   "cell_type": "code",
   "execution_count": null,
   "metadata": {},
   "outputs": [],
   "source": []
  }
 ],
 "metadata": {
  "kernelspec": {
   "display_name": "Python 3",
   "language": "python",
   "name": "python3"
  },
  "language_info": {
   "codemirror_mode": {
    "name": "ipython",
    "version": 3
   },
   "file_extension": ".py",
   "mimetype": "text/x-python",
   "name": "python",
   "nbconvert_exporter": "python",
   "pygments_lexer": "ipython3",
   "version": "3.7.6"
  }
 },
 "nbformat": 4,
 "nbformat_minor": 2
}
