{
 "cells": [
  {
   "cell_type": "code",
   "execution_count": 1,
   "metadata": {},
   "outputs": [],
   "source": [
    "import pandas as pd\n",
    "import seaborn as sns\n",
    "import matplotlib.pyplot as plt\n",
    "import numpy as np\n",
    "from qiskit import *\n",
    "from qiskit.visualization import plot_histogram"
   ]
  },
  {
   "cell_type": "code",
   "execution_count": 2,
   "metadata": {},
   "outputs": [],
   "source": [
    "#  simulator\n",
    "counts_m0 = {'0000': 457, '0001': 50, '0010': 31, '0011': 31, '0100': 48, '0101': 31, '0110': 34, '0111': 38, '1000': 39, '1001': 40, '1010': 44, '1011': 32, '1100': 44, '1101': 34, '1110': 40, '1111': 31}\n",
    "counts_m1 = {'0000': 48, '0001': 455, '0010': 30, '0011': 30, '0100': 38, '0101': 24, '0110': 37, '0111': 46, '1000': 37, '1001': 42, '1010': 40, '1011': 42, '1100': 46, '1101': 41, '1110': 30, '1111': 38}\n",
    "counts_m2 = {'0000': 37, '0001': 40, '0010': 514, '0011': 39, '0100': 32, '0101': 39, '0110': 29, '0111': 34, '1000': 26, '1001': 30, '1010': 37, '1011': 38, '1100': 24, '1101': 33, '1110': 46, '1111': 26}\n",
    "counts_m3 = {'0000': 40, '0001': 43, '0010': 32, '0011': 489, '0100': 37, '0101': 31, '0110': 36, '0111': 27, '1000': 37, '1001': 37, '1010': 42, '1011': 46, '1100': 31, '1101': 33, '1110': 31, '1111': 32}\n",
    "counts_m4 = {'0000': 36, '0001': 40, '0010': 23, '0011': 28, '0100': 508, '0101': 34, '0110': 38, '0111': 35, '1000': 40, '1001': 46, '1010': 40, '1011': 23, '1100': 31, '1101': 34, '1110': 33, '1111': 35}\n",
    "counts_m5 = {'0000': 43, '0001': 40, '0010': 40, '0011': 37, '0100': 44, '0101': 464, '0110': 36, '0111': 31, '1000': 24, '1001': 35, '1010': 36, '1011': 49, '1100': 45, '1101': 31, '1110': 39, '1111': 30}\n",
    "counts_m6 = {'0000': 47, '0001': 36, '0010': 41, '0011': 39, '0100': 44, '0101': 34, '0110': 454, '0111': 48, '1000': 37, '1001': 38, '1010': 38, '1011': 35, '1100': 34, '1101': 34, '1110': 32, '1111': 33}\n",
    "counts_m7 = {'0000': 40, '0001': 32, '0010': 40, '0011': 42, '0100': 48, '0101': 30, '0110': 30, '0111': 479, '1000': 32, '1001': 39, '1010': 32, '1011': 32, '1100': 38, '1101': 38, '1110': 40, '1111': 32}\n",
    "counts_m8 = {'0000': 40, '0001': 42, '0010': 38, '0011': 33, '0100': 45, '0101': 45, '0110': 45, '0111': 34, '1000': 433, '1001': 35, '1010': 48, '1011': 28, '1100': 42, '1101': 32, '1110': 41, '1111': 43}\n",
    "counts_m9 = {'0000': 32, '0001': 40, '0010': 40, '0011': 44, '0100': 35, '0101': 28, '0110': 35, '0111': 42, '1000': 36, '1001': 497, '1010': 33, '1011': 32, '1100': 38, '1101': 31, '1110': 32, '1111': 29}\n",
    "counts_m10 = {'0000': 41, '0001': 31, '0010': 45, '0011': 32, '0100': 30, '0101': 39, '0110': 29, '0111': 39, '1000': 38, '1001': 39, '1010': 485, '1011': 36, '1100': 27, '1101': 38, '1110': 38, '1111': 37}\n",
    "counts_m11 = {'0000': 40, '0001': 35, '0010': 38, '0011': 33, '0100': 28, '0101': 37, '0110': 43, '0111': 35, '1000': 24, '1001': 40, '1010': 38, '1011': 491, '1100': 30, '1101': 44, '1110': 29, '1111': 39}\n",
    "counts_m12 = {'0000': 30, '0001': 30, '0010': 33, '0011': 38, '0100': 51, '0101': 31, '0110': 27, '0111': 32, '1000': 33, '1001': 46, '1010': 33, '1011': 46, '1100': 478, '1101': 30, '1110': 52, '1111': 34}\n",
    "counts_m13 = {'0000': 35, '0001': 35, '0010': 36, '0011': 28, '0100': 32, '0101': 40, '0110': 35, '0111': 31, '1000': 38, '1001': 26, '1010': 34, '1011': 35, '1100': 32, '1101': 517, '1110': 32, '1111': 38}\n",
    "counts_m14 = {'0000': 39, '0001': 43, '0010': 36, '0011': 34, '0100': 31, '0101': 40, '0110': 37, '0111': 29, '1000': 26, '1001': 40, '1010': 47, '1011': 37, '1100': 40, '1101': 26, '1110': 486, '1111': 33}\n",
    "counts_m15 = {'0000': 44, '0001': 40, '0010': 40, '0011': 42, '0100': 38, '0101': 39, '0110': 27, '0111': 38, '1000': 31, '1001': 23, '1010': 36, '1011': 46, '1100': 34, '1101': 34, '1110': 30, '1111': 482}\n",
    "\n",
    "counts_states = [counts_m0, counts_m1, counts_m2, counts_m3, counts_m4, counts_m5, counts_m6, counts_m7, counts_m8, counts_m9, counts_m10, counts_m11, counts_m12, counts_m13, counts_m14, counts_m15]"
   ]
  },
  {
   "cell_type": "code",
   "execution_count": 3,
   "metadata": {},
   "outputs": [
    {
     "name": "stdout",
     "output_type": "stream",
     "text": [
      "        0\n",
      "0000  457\n",
      "0001   50\n",
      "0010   31\n",
      "0011   31\n",
      "0100   48\n",
      "0101   31\n",
      "0110   34\n",
      "0111   38\n",
      "1000   39\n",
      "1001   40\n",
      "1010   44\n",
      "1011   32\n",
      "1100   44\n",
      "1101   34\n",
      "1110   40\n",
      "1111   31\n"
     ]
    }
   ],
   "source": [
    "dataframe = pd.DataFrame.from_dict(counts_m0, orient = 'index', columns = [0])\n",
    "print(dataframe)"
   ]
  },
  {
   "cell_type": "code",
   "execution_count": 4,
   "metadata": {},
   "outputs": [
    {
     "name": "stdout",
     "output_type": "stream",
     "text": [
      "      0000  0001  0010  0011  0100  0101  0110  0111  1000  1001  1010  1011  \\\n",
      "0000   457    50    31    31    48    31    34    38    39    40    44    32   \n",
      "0001    48   455    30    30    38    24    37    46    37    42    40    42   \n",
      "0010    37    40   514    39    32    39    29    34    26    30    37    38   \n",
      "0011    40    43    32   489    37    31    36    27    37    37    42    46   \n",
      "0100    36    40    23    28   508    34    38    35    40    46    40    23   \n",
      "0101    43    40    40    37    44   464    36    31    24    35    36    49   \n",
      "0110    47    36    41    39    44    34   454    48    37    38    38    35   \n",
      "0111    40    32    40    42    48    30    30   479    32    39    32    32   \n",
      "1000    40    42    38    33    45    45    45    34   433    35    48    28   \n",
      "1001    32    40    40    44    35    28    35    42    36   497    33    32   \n",
      "1010    41    31    45    32    30    39    29    39    38    39   485    36   \n",
      "1011    40    35    38    33    28    37    43    35    24    40    38   491   \n",
      "1100    30    30    33    38    51    31    27    32    33    46    33    46   \n",
      "1101    35    35    36    28    32    40    35    31    38    26    34    35   \n",
      "1110    39    43    36    34    31    40    37    29    26    40    47    37   \n",
      "1111    44    40    40    42    38    39    27    38    31    23    36    46   \n",
      "\n",
      "      1100  1101  1110  1111  \n",
      "0000    44    34    40    31  \n",
      "0001    46    41    30    38  \n",
      "0010    24    33    46    26  \n",
      "0011    31    33    31    32  \n",
      "0100    31    34    33    35  \n",
      "0101    45    31    39    30  \n",
      "0110    34    34    32    33  \n",
      "0111    38    38    40    32  \n",
      "1000    42    32    41    43  \n",
      "1001    38    31    32    29  \n",
      "1010    27    38    38    37  \n",
      "1011    30    44    29    39  \n",
      "1100   478    30    52    34  \n",
      "1101    32   517    32    38  \n",
      "1110    40    26   486    33  \n",
      "1111    34    34    30   482  \n"
     ]
    }
   ],
   "source": [
    "df = pd.DataFrame(counts_states)\n",
    "df.index = ['0000', '0001', '0010', '0011', '0100', '0101', '0110', '0111', '1000', '1001', '1010', '1011', '1100', '1101', '1110', '1111']\n",
    "print(df)"
   ]
  },
  {
   "cell_type": "code",
   "execution_count": 7,
   "metadata": {},
   "outputs": [
    {
     "data": {
      "image/png": "[encoded data removed]",
      "text/plain": [
       "<Figure size 1080x720 with 2 Axes>"
      ]
     },
     "metadata": {
      "needs_background": "light"
     },
     "output_type": "display_data"
    }
   ],
   "source": [
    "# Use rocket or mako for heatmap in sns. Put _r after the name for reverse colors.\n",
    "# E.g rocket_r or mako_r\n",
    "fig, ax = plt.subplots(figsize=(15, 10)) \n",
    "heatmap = sns.heatmap(df, linewidths = 1, cmap = 'mako_r', cbar_kws = {'label': 'Times Measured'})\n",
    "\n",
    "plt.xlabel('Measured State')\n",
    "plt.ylabel('Marked State')\n",
    "# plt.savefig('simulator_heatmap_no_iter.png')\n",
    "plt.show()"
   ]
  },
  {
   "cell_type": "markdown",
   "metadata": {},
   "source": [
    "Refer for Seaborn Heatmap customzations: https://www.carladasilvamatos.com/blog/2019/12/25/lnn5xyodn2kv4i0o2mg9agdw07qgo0"
   ]
  }
 ],
 "metadata": {
  "kernelspec": {
   "display_name": "Python 3",
   "language": "python",
   "name": "python3"
  },
  "language_info": {
   "codemirror_mode": {
    "name": "ipython",
    "version": 3
   },
   "file_extension": ".py",
   "mimetype": "text/x-python",
   "name": "python",
   "nbconvert_exporter": "python",
   "pygments_lexer": "ipython3",
   "version": "3.7.6"
  }
 },
 "nbformat": 4,
 "nbformat_minor": 2
}
