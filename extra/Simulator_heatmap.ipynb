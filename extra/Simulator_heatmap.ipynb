{
 "cells": [
  {
   "cell_type": "code",
   "execution_count": 190,
   "metadata": {},
   "outputs": [],
   "source": [
    "import pandas as pd\n",
    "import seaborn as sns\n",
    "import matplotlib.pyplot as plt\n",
    "import numpy as np\n",
    "from qiskit import *\n",
    "from qiskit.visualization import plot_histogram"
   ]
  },
  {
   "cell_type": "code",
   "execution_count": 191,
   "metadata": {},
   "outputs": [],
   "source": [
    "counts_states = [counts_m0, counts_m1, counts_m2, counts_m3, counts_m4, counts_m5, counts_m6, counts_m7, counts_m8, counts_m9, counts_m10, counts_m11, counts_m12, counts_m13, counts_m14, counts_m15]\n",
    "counts_m0 = {'0000': 473, '0001': 35, '0010': 46, '0011': 36, '0100': 39, '0101': 33, '0110': 37, '0111': 46, '1000': 36, '1001': 27, '1010': 40, '1011': 43, '1100': 42, '1101': 32, '1110': 29, '1111': 30}\n",
    "counts_m1 = {'0000': 35, '0001': 464, '0010': 49, '0011': 36, '0100': 33, '0101': 33, '0110': 43, '0111': 45, '1000': 33, '1001': 38, '1010': 42, '1011': 33, '1100': 42, '1101': 35, '1110': 40, '1111': 23}\n",
    "counts_m2 = {'0000': 39, '0001': 39, '0010': 467, '0011': 43, '0100': 36, '0101': 39, '0110': 28, '0111': 38, '1000': 40, '1001': 30, '1010': 37, '1011': 31, '1100': 52, '1101': 41, '1110': 34, '1111': 30}\n",
    "counts_m3 = {'0000': 37, '0001': 39, '0010': 37, '0011': 500, '0100': 34, '0101': 39, '0110': 31, '0111': 29, '1000': 38, '1001': 27, '1010': 39, '1011': 34, '1100': 36, '1101': 42, '1110': 38, '1111': 24}\n",
    "counts_m4 = {'0000': 32, '0001': 35, '0010': 31, '0011': 45, '0100': 484, '0101': 44, '0110': 29, '0111': 36, '1000': 31, '1001': 32, '1010': 48, '1011': 37, '1100': 33, '1101': 42, '1110': 40, '1111': 25}\n",
    "counts_m5 = {'0000': 43, '0001': 34, '0010': 27, '0011': 32, '0100': 35, '0101': 498, '0110': 33, '0111': 36, '1000': 35, '1001': 36, '1010': 35, '1011': 40, '1100': 32, '1101': 36, '1110': 38, '1111': 34}\n",
    "counts_m6 = {'0000': 33, '0001': 30, '0010': 40, '0011': 32, '0100': 29, '0101': 31, '0110': 508, '0111': 37, '1000': 41, '1001': 28, '1010': 30, '1011': 33, '1100': 44, '1101': 34, '1110': 34, '1111': 40}\n",
    "counts_m7 = {'0000': 39, '0001': 42, '0010': 36, '0011': 36, '0100': 37, '0101': 33, '0110': 35, '0111': 471, '1000': 44, '1001': 25, '1010': 42, '1011': 33, '1100': 39, '1101': 29, '1110': 48, '1111': 35}\n",
    "counts_m8 = {'0000': 36, '0001': 39, '0010': 37, '0011': 38, '0100': 32, '0101': 34, '0110': 38, '0111': 26, '1000': 489, '1001': 31, '1010': 40, '1011': 36, '1100': 37, '1101': 39, '1110': 28, '1111': 44}\n",
    "counts_m9 = {'0000': 35, '0001': 29, '0010': 46, '0011': 40, '0100': 35, '0101': 36, '0110': 38, '0111': 36, '1000': 38, '1001': 494, '1010': 36, '1011': 36, '1100': 32, '1101': 30, '1110': 34, '1111': 29}\n",
    "counts_m10 = {'0000': 45, '0001': 37, '0010': 34, '0011': 27, '0100': 39, '0101': 38, '0110': 33, '0111': 37, '1000': 38, '1001': 41, '1010': 493, '1011': 34, '1100': 34, '1101': 34, '1110': 31, '1111': 29}\n",
    "counts_m11 = {'0000': 33, '0001': 43, '0010': 47, '0011': 35, '0100': 39, '0101': 43, '0110': 25, '0111': 29, '1000': 37, '1001': 35, '1010': 45, '1011': 475, '1100': 34, '1101': 31, '1110': 35, '1111': 38}\n",
    "counts_m12 = {'0000': 36, '0001': 36, '0010': 22, '0011': 41, '0100': 28, '0101': 27, '0110': 38, '0111': 37, '1000': 29, '1001': 33, '1010': 37, '1011': 32, '1100': 498, '1101': 46, '1110': 40, '1111': 44}\n",
    "counts_m13 = {'0000': 47, '0001': 25, '0010': 22, '0011': 28, '0100': 34, '0101': 35, '0110': 36, '0111': 31, '1000': 45, '1001': 40, '1010': 35, '1011': 32, '1100': 43, '1101': 501, '1110': 37, '1111': 33}\n",
    "counts_m14 = {'0000': 37, '0001': 40, '0010': 38, '0011': 48, '0100': 27, '0101': 36, '0110': 27, '0111': 31, '1000': 35, '1001': 40, '1010': 29, '1011': 37, '1100': 34, '1101': 33, '1110': 496, '1111': 36}\n",
    "counts_m15 = {'0000': 38, '0001': 32, '0010': 43, '0011': 25, '0100': 32, '0101': 39, '0110': 49, '0111': 42, '1000': 34, '1001': 37, '1010': 42, '1011': 38, '1100': 29, '1101': 39, '1110': 24, '1111': 481}"
   ]
  },
  {
   "cell_type": "code",
   "execution_count": 192,
   "metadata": {},
   "outputs": [
    {
     "name": "stdout",
     "output_type": "stream",
     "text": [
      "        0\n",
      "0000  473\n",
      "0001   35\n",
      "0010   46\n",
      "0011   36\n",
      "0100   39\n",
      "0101   33\n",
      "0110   37\n",
      "0111   46\n",
      "1000   36\n",
      "1001   27\n",
      "1010   40\n",
      "1011   43\n",
      "1100   42\n",
      "1101   32\n",
      "1110   29\n",
      "1111   30\n"
     ]
    }
   ],
   "source": [
    "dataframe = pd.DataFrame.from_dict(counts_m0, orient = 'index', columns = [0])\n",
    "print(dataframe)"
   ]
  },
  {
   "cell_type": "code",
   "execution_count": 193,
   "metadata": {},
   "outputs": [
    {
     "name": "stdout",
     "output_type": "stream",
     "text": [
      "      0000  0001  0010  0011  0100  0101  0110  0111  1000  1001  1010  1011  \\\n",
      "0000   473    35    46    36    39    33    37    46    36    27    40    43   \n",
      "0001    35   464    49    36    33    33    43    45    33    38    42    33   \n",
      "0010    39    39   467    43    36    39    28    38    40    30    37    31   \n",
      "0011    37    39    37   500    34    39    31    29    38    27    39    34   \n",
      "0100    32    35    31    45   484    44    29    36    31    32    48    37   \n",
      "0101    43    34    27    32    35   498    33    36    35    36    35    40   \n",
      "0110    33    30    40    32    29    31   508    37    41    28    30    33   \n",
      "0111    39    42    36    36    37    33    35   471    44    25    42    33   \n",
      "1000    36    39    37    38    32    34    38    26   489    31    40    36   \n",
      "1001    35    29    46    40    35    36    38    36    38   494    36    36   \n",
      "1010    45    37    34    27    39    38    33    37    38    41   493    34   \n",
      "1011    33    43    47    35    39    43    25    29    37    35    45   475   \n",
      "1100    36    36    22    41    28    27    38    37    29    33    37    32   \n",
      "1101    47    25    22    28    34    35    36    31    45    40    35    32   \n",
      "1110    37    40    38    48    27    36    27    31    35    40    29    37   \n",
      "1111    38    32    43    25    32    39    49    42    34    37    42    38   \n",
      "\n",
      "      1100  1101  1110  1111  \n",
      "0000    42    32    29    30  \n",
      "0001    42    35    40    23  \n",
      "0010    52    41    34    30  \n",
      "0011    36    42    38    24  \n",
      "0100    33    42    40    25  \n",
      "0101    32    36    38    34  \n",
      "0110    44    34    34    40  \n",
      "0111    39    29    48    35  \n",
      "1000    37    39    28    44  \n",
      "1001    32    30    34    29  \n",
      "1010    34    34    31    29  \n",
      "1011    34    31    35    38  \n",
      "1100   498    46    40    44  \n",
      "1101    43   501    37    33  \n",
      "1110    34    33   496    36  \n",
      "1111    29    39    24   481  \n"
     ]
    }
   ],
   "source": [
    "df = pd.DataFrame(counts_states)\n",
    "df.index = ['0000', '0001', '0010', '0011', '0100', '0101', '0110', '0111', '1000', '1001', '1010', '1011', '1100', '1101', '1110', '1111']\n",
    "print(df)"
   ]
  },
  {
   "cell_type": "code",
   "execution_count": 195,
   "metadata": {},
   "outputs": [
    {
     "data": {
      "image/png": "[encoded data removed]",
      "text/plain": [
       "<Figure size 1080x720 with 2 Axes>"
      ]
     },
     "metadata": {
      "needs_background": "light"
     },
     "output_type": "display_data"
    }
   ],
   "source": [
    "# Use rocket or mako for heatmap in sns. Put _r after the name for reverse colors.\n",
    "# E.g rocket_r or mako_r\n",
    "fig, ax = plt.subplots(figsize=(15, 10)) \n",
    "heatmap = sns.heatmap(df, linewidths = 1, cmap = 'mako_r', cbar_kws = {'label': 'Times Measured'})\n",
    "\n",
    "plt.xlabel('Measured State')\n",
    "plt.ylabel('Marked State')\n",
    "# plt.savefig('simulator_heatmap_no_iter.png')\n",
    "plt.show()"
   ]
  },
  {
   "cell_type": "markdown",
   "metadata": {},
   "source": [
    "Refer for Seaborn Heatmap customzations: https://www.carladasilvamatos.com/blog/2019/12/25/lnn5xyodn2kv4i0o2mg9agdw07qgo0"
   ]
  }
 ],
 "metadata": {
  "kernelspec": {
   "display_name": "Python 3",
   "language": "python",
   "name": "python3"
  },
  "language_info": {
   "codemirror_mode": {
    "name": "ipython",
    "version": 3
   },
   "file_extension": ".py",
   "mimetype": "text/x-python",
   "name": "python",
   "nbconvert_exporter": "python",
   "pygments_lexer": "ipython3",
   "version": "3.7.6"
  }
 },
 "nbformat": 4,
 "nbformat_minor": 2
}
